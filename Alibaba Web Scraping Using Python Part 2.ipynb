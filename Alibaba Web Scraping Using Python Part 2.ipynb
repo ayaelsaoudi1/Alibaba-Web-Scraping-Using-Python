{
 "cells": [
  {
   "cell_type": "markdown",
   "id": "3f938ed0-f185-40e1-bc94-2d57b6c0354b",
   "metadata": {},
   "source": [
    "## Alibaba Web Scraping Using Python - Part Two\n",
    "\n",
    "#### Import required libraries\n",
    "\n",
    "\n",
    "\n",
    "\n",
    "\n",
    "\n",
    "\n",
    "\n",
    "\n",
    "\n",
    "\n"
   ]
  },
  {
   "cell_type": "code",
   "execution_count": 1,
   "id": "6f2ff141-8c3b-4f49-87d9-24487e9b5b7c",
   "metadata": {},
   "outputs": [],
   "source": [
    "import requests\n",
    "from bs4 import BeautifulSoup\n",
    "import pandas as pd"
   ]
  },
  {
   "cell_type": "markdown",
   "id": "1b0fb583-52a6-4105-ada5-a5a133ff253f",
   "metadata": {},
   "source": [
    "#### Define request headers to mimic a browser"
   ]
  },
  {
   "cell_type": "code",
   "execution_count": 2,
   "id": "345c45cd-4c18-490c-b2ae-0da10e0507d9",
   "metadata": {},
   "outputs": [],
   "source": [
    "headers = {\n",
    "    \"User-Agent\": \"Mozilla/5.0 (Windows NT 10.0; Win64; x64) AppleWebKit/537.36 (KHTML, like Gecko) Chrome/133.0.0.0 Safari/537.36\",\n",
    "    \"Accept-Encoding\": \"gzip, deflate\",\n",
    "    \"Accept\": \"text/html,application/xhtml+xml,application/xml;q=0.9,*/*;q=0.8\",\n",
    "    \"DNT\": \"1\",\n",
    "    \"Connection\": \"close\",\n",
    "    \"Upgrade-Insecure-Requests\": \"1\"\n",
    "}"
   ]
  },
  {
   "cell_type": "markdown",
   "id": "088cdb3a-b6c1-4ade-90c5-869af3bd4549",
   "metadata": {},
   "source": [
    "##### Initialize lists to store scraped data\n",
    "\n",
    "\n",
    "\n"
   ]
  },
  {
   "cell_type": "code",
   "execution_count": 3,
   "id": "ed25a5b0-8027-43ab-8a1c-fd7d7995c5df",
   "metadata": {},
   "outputs": [],
   "source": [
    "product_names = []\n",
    "prices = []\n",
    "min_orders = []"
   ]
  },
  {
   "cell_type": "markdown",
   "id": "6ed3ab21-423c-4d24-96fb-36a8cf2cc6ac",
   "metadata": {},
   "source": [
    "##### Define the number of pages to scrape"
   ]
  },
  {
   "cell_type": "code",
   "execution_count": 4,
   "id": "42ccc35b-4c99-4698-b459-170c421fdee1",
   "metadata": {},
   "outputs": [],
   "source": [
    "num_pages = 5  # Change this value to scrape more pages"
   ]
  },
  {
   "cell_type": "markdown",
   "id": "149d576d-ecf1-4723-8d5c-175ca3a21dcc",
   "metadata": {},
   "source": [
    "#### Loop through multiple pages\n"
   ]
  },
  {
   "cell_type": "code",
   "execution_count": 5,
   "id": "5077e9e1-a199-401c-a353-5c5305a35787",
   "metadata": {},
   "outputs": [
    {
     "name": "stdout",
     "output_type": "stream",
     "text": [
      "Scraping page 1...\n",
      "Scraping page 2...\n",
      "Scraping page 3...\n",
      "Scraping page 4...\n",
      "Scraping page 5...\n",
      "Scraping completed!\n"
     ]
    }
   ],
   "source": [
    "for page_num in range(1, num_pages + 1):\n",
    "    url = f'https://www.alibaba.com/showroom/t--shirts_{page_num}.html'\n",
    "    print(f\"Scraping page {page_num}...\")  # Log progress\n",
    "    \n",
    "    try:\n",
    "        response = requests.get(url, headers=headers, timeout=10)\n",
    "        response.raise_for_status()  # Raise HTTP errors (if any)\n",
    "    except requests.RequestException as e:\n",
    "        print(f\"Error fetching page {page_num}: {e}\")\n",
    "        continue  # Skip to the next page if an error occurs\n",
    "\n",
    "    # Parse the page content\n",
    "    soup = BeautifulSoup(response.text, 'html.parser')\n",
    "\n",
    "    # Extract product names\n",
    "    product_names.extend(\n",
    "        [h2.get_text(strip=True) for h2 in soup.find_all('h2', style=\"display:inline\")]\n",
    "    )\n",
    "\n",
    "    # Extract prices\n",
    "    prices.extend(\n",
    "        [price.get_text(strip=True) for price in soup.find_all('div', {'data-component': 'ProductPrice'})]\n",
    "    )\n",
    "\n",
    "    # Extract minimum order quantities\n",
    "    min_orders.extend(\n",
    "        [moq.get_text(strip=True).replace('Min. Order: ', '') for moq in soup.find_all('div', {'data-component': 'ProductMoq'})]\n",
    "    )\n",
    "\n",
    "print(\"Scraping completed!\")"
   ]
  },
  {
   "cell_type": "markdown",
   "id": "51922b8f-115c-4159-9da8-61e5286907c0",
   "metadata": {},
   "source": [
    "#### Create a DataFrame\n",
    "\n",
    "\n",
    "\n",
    "\n"
   ]
  },
  {
   "cell_type": "code",
   "execution_count": 6,
   "id": "36d2f259-5c2c-4483-8c19-c56a5e93b814",
   "metadata": {},
   "outputs": [],
   "source": [
    "df = pd.DataFrame({\n",
    "    'Product Name': product_names,\n",
    "    'Prices': prices,\n",
    "    'Min Orders': min_orders\n",
    "})"
   ]
  },
  {
   "cell_type": "code",
   "execution_count": 7,
   "id": "4459197d-8332-4972-9743-b981dbe84c1c",
   "metadata": {},
   "outputs": [
    {
     "data": {
      "text/html": [
       "<div>\n",
       "<style scoped>\n",
       "    .dataframe tbody tr th:only-of-type {\n",
       "        vertical-align: middle;\n",
       "    }\n",
       "\n",
       "    .dataframe tbody tr th {\n",
       "        vertical-align: top;\n",
       "    }\n",
       "\n",
       "    .dataframe thead th {\n",
       "        text-align: right;\n",
       "    }\n",
       "</style>\n",
       "<table border=\"1\" class=\"dataframe\">\n",
       "  <thead>\n",
       "    <tr style=\"text-align: right;\">\n",
       "      <th></th>\n",
       "      <th>Product Name</th>\n",
       "      <th>Prices</th>\n",
       "      <th>Min Orders</th>\n",
       "    </tr>\n",
       "  </thead>\n",
       "  <tbody>\n",
       "    <tr>\n",
       "      <th>0</th>\n",
       "      <td>Hot Drill Rhinestone Oversized Tshirt Custom Y...</td>\n",
       "      <td>$1.80-2.65</td>\n",
       "      <td>10 pieces</td>\n",
       "    </tr>\n",
       "    <tr>\n",
       "      <th>1</th>\n",
       "      <td>ODM 220 GSM 100 Cotton Plain Short Sleeve Over...</td>\n",
       "      <td>$2.98-8.56</td>\n",
       "      <td>50 pieces</td>\n",
       "    </tr>\n",
       "    <tr>\n",
       "      <th>2</th>\n",
       "      <td>Custom Logo Puff Printed Tee Shirt Blank Plain...</td>\n",
       "      <td>$4.00-5.00</td>\n",
       "      <td>20 pieces</td>\n",
       "    </tr>\n",
       "    <tr>\n",
       "      <th>3</th>\n",
       "      <td>Hot Sale Summer Light Weight Bamboo Fiber Crew...</td>\n",
       "      <td>$2.41-6.93</td>\n",
       "      <td>50 pieces</td>\n",
       "    </tr>\n",
       "    <tr>\n",
       "      <th>4</th>\n",
       "      <td>High Quality 100% Cotton Custom Tshirt Men Wit...</td>\n",
       "      <td>$6.98-9.56</td>\n",
       "      <td>10 pieces</td>\n",
       "    </tr>\n",
       "  </tbody>\n",
       "</table>\n",
       "</div>"
      ],
      "text/plain": [
       "                                        Product Name      Prices Min Orders\n",
       "0  Hot Drill Rhinestone Oversized Tshirt Custom Y...  $1.80-2.65  10 pieces\n",
       "1  ODM 220 GSM 100 Cotton Plain Short Sleeve Over...  $2.98-8.56  50 pieces\n",
       "2  Custom Logo Puff Printed Tee Shirt Blank Plain...  $4.00-5.00  20 pieces\n",
       "3  Hot Sale Summer Light Weight Bamboo Fiber Crew...  $2.41-6.93  50 pieces\n",
       "4  High Quality 100% Cotton Custom Tshirt Men Wit...  $6.98-9.56  10 pieces"
      ]
     },
     "execution_count": 7,
     "metadata": {},
     "output_type": "execute_result"
    }
   ],
   "source": [
    "df.head()"
   ]
  },
  {
   "cell_type": "markdown",
   "id": "3b6b68db-237b-4a35-a711-3e02c12d4db7",
   "metadata": {},
   "source": [
    "#### Save the data to a CSV file\n"
   ]
  },
  {
   "cell_type": "code",
   "execution_count": 8,
   "id": "a53ca5db-e18e-4f0f-86a9-05eefb5a6401",
   "metadata": {},
   "outputs": [],
   "source": [
    "output_path = r\"alibaba_data_scraped_part2.csv\"\n",
    "df.to_csv(output_path, index=False)"
   ]
  },
  {
   "cell_type": "code",
   "execution_count": null,
   "id": "f9f30744-32ec-4e6f-bcef-0a40a7718dc1",
   "metadata": {},
   "outputs": [],
   "source": []
  }
 ],
 "metadata": {
  "kernelspec": {
   "display_name": "Python 3 (ipykernel)",
   "language": "python",
   "name": "python3"
  },
  "language_info": {
   "codemirror_mode": {
    "name": "ipython",
    "version": 3
   },
   "file_extension": ".py",
   "mimetype": "text/x-python",
   "name": "python",
   "nbconvert_exporter": "python",
   "pygments_lexer": "ipython3",
   "version": "3.12.4"
  }
 },
 "nbformat": 4,
 "nbformat_minor": 5
}
